{
 "cells": [
  {
   "cell_type": "code",
   "execution_count": null,
   "id": "839f2970",
   "metadata": {},
   "outputs": [
    {
     "name": "stdout",
     "output_type": "stream",
     "text": [
      "             Máquina  Tempo de operação (h)  Consumo de energia (kWh)  \\\n",
      "0         Exaustor 1                    160                       175   \n",
      "1          Turbina 2                     82                       194   \n",
      "2  Moinho Vertical 3                    127                       180   \n",
      "3   Motor Elétrico 4                    141                       176   \n",
      "4  Moinho Vertical 5                    133                       142   \n",
      "\n",
      "   Produção  Eficiência (Peças/kWh)  \n",
      "0       460                  2.6286  \n",
      "1       750                  3.8660  \n",
      "2       718                  3.9889  \n",
      "3       657                  3.7330  \n",
      "4       482                  3.3944  \n"
     ]
    }
   ],
   "source": [
    "import pandas as pd\n",
    "import random\n",
    "\n",
    "# Lista de tipos de máquinas reais\n",
    "maquinas = [\n",
    "    'Moinho de Martelos', 'Bomba Centrífuga', 'Compressor', 'Turbina', \n",
    "    'Gerador', 'Moinho Vertical', 'Bomba de Pistão', 'Compressor de Parafuso', \n",
    "    'Motor Elétrico', 'Exaustor'\n",
    "]\n",
    "\n",
    "# Gerar dados para 50 máquinas\n",
    "dados = {\n",
    "    'Máquina': [],\n",
    "    'Tempo de operação (h)': [],\n",
    "    'Consumo de energia (kWh)': [],\n",
    "    'Produção': []\n",
    "}\n",
    "\n",
    "for i in range(50):\n",
    "    tipo_maquina = random.choice(maquinas)\n",
    "    maquina_nome = f'{tipo_maquina} {i+1}'\n",
    "    tempo_operacao = random.randint(80, 160)\n",
    "    consumo_energia = random.randint(120, 220)\n",
    "    producao = random.randint(400, 750)\n",
    "    dados['Máquina'].append(maquina_nome)\n",
    "    dados['Tempo de operação (h)'].append(tempo_operacao)\n",
    "    dados['Consumo de energia (kWh)'].append(consumo_energia)\n",
    "    dados['Produção'].append(producao)\n",
    "\n",
    "# Criar DataFrame\n",
    "df = pd.DataFrame(dados)\n",
    "\n",
    "# Calcular a eficiência (peças por kWh) com 4 casas decimais\n",
    "df['Eficiência (Peças/kWh)'] = (df['Produção'] / df['Consumo de energia (kWh)']).round(4)\n",
    "\n",
    "# Salvar como CSV com ponto e vírgula como separador de campo e vírgula como decimal\n",
    "df.to_csv('C:/Users/João Pedro C/Documents/Estudo análise de dados/Eficiência de máquina projeto simples/Eficiência de máquina projeto simples.csv', index=False, sep=';', decimal=',')\n",
    "\n"
   ]
  },
  {
   "cell_type": "code",
   "execution_count": null,
   "id": "7f8bcf16",
   "metadata": {},
   "outputs": [],
   "source": []
  }
 ],
 "metadata": {
  "kernelspec": {
   "display_name": "base",
   "language": "python",
   "name": "python3"
  },
  "language_info": {
   "codemirror_mode": {
    "name": "ipython",
    "version": 3
   },
   "file_extension": ".py",
   "mimetype": "text/x-python",
   "name": "python",
   "nbconvert_exporter": "python",
   "pygments_lexer": "ipython3",
   "version": "3.12.7"
  }
 },
 "nbformat": 4,
 "nbformat_minor": 5
}
